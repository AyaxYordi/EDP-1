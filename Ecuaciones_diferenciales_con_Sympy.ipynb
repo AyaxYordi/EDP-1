{
  "nbformat": 4,
  "nbformat_minor": 0,
  "metadata": {
    "colab": {
      "provenance": [],
      "authorship_tag": "ABX9TyNZLplGimPcp+w/7naNo3rS"
    },
    "kernelspec": {
      "name": "python3",
      "display_name": "Python 3"
    },
    "language_info": {
      "name": "python"
    }
  },
  "cells": [
    {
      "cell_type": "markdown",
      "source": [
        "# Ecuaciones diferenciales con la libreria Sympy\n",
        "\n",
        "Aquí se da un breve repaso de cómo resolver ecuaciones diferenciales haciendo uso de la librería Sympy de Python y se resolverán los siguientes tipos de ecuaciones diferenciales.\n",
        "\n",
        "\n",
        "\n",
        "*   Ecuaciones diferenciales ordinarias de variable separable\n",
        "*   Ecuaciones diferenciales ordinarias Homogeneas\n",
        "*   Ecuaciones diferenciales ordinarias de Bernoulli\n",
        "\n",
        "# Ecuaciones diferenciales ordinarias de variable separable\n",
        "\n",
        "Si de la ecuacion diferencial ordinaria de primer orden y primer grado que es:\n",
        "\n",
        "$$\\dfrac{dy}{dx}=f(x,y)$$\n",
        "\n",
        "Se puede expresar de la siguiente manera:\n",
        "\n",
        "$$M(x)dx+N(y)dy=0$$\n",
        "\n",
        "Entonces a la ecuación se le denomina ecuación diferencial ordinaria de variable separable y la solución general se obtiene por integración directa, es decir:\n",
        "\n",
        "$$\\int M(x)dx+\\int N(y)dy=c$$\n",
        "\n",
        "**Ejercicio 1:** Resolver la siguiente ecuación diferencial.\n",
        "\n",
        "$$-(x^2y+x^2)dx+\\sqrt{1+x^3}dy=0$$\n",
        "\n",
        "**Solución:**\n",
        "\n",
        "**Paso 1.** Reescribiremos la ecuación diferencial de la forma $\\dfrac{dy}{dx}=f(x,y)$ o sea:\n",
        "\n",
        "$$\\dfrac{dy}{dx}=\\dfrac{x^2y+x^2}{\\sqrt{1+x^3}}$$\n",
        "\n",
        "**Paso 2.** Definimos las variables de la ecuación diferencial."
      ],
      "metadata": {
        "id": "cX6rmQTXX2KW"
      }
    },
    {
      "cell_type": "code",
      "execution_count": 2,
      "metadata": {
        "id": "FnWrOOGTXwmD"
      },
      "outputs": [],
      "source": [
        "from sympy import *\n",
        "\n",
        "y = Function(\"y\")\n",
        "x = symbols(\"x\")"
      ]
    },
    {
      "cell_type": "markdown",
      "source": [
        "**Paso 3.** Escribimos la ecuación diferencial.\n",
        "\n",
        "Para escribir la ecuación diferencial se utiliza la función Eq.\n",
        "\n",
        "```\n",
        "Eq(miembro_izquierdo_de_la_igualdad , miembro_derecho_de_la_igualdad)\n",
        "```\n",
        "\n"
      ],
      "metadata": {
        "id": "SVYrytHcEZT2"
      }
    },
    {
      "cell_type": "code",
      "source": [
        "edo = Eq(diff(y(x),x),(y(x)*x**2+x**2)/sqrt(1+x**3))\n",
        "edo"
      ],
      "metadata": {
        "colab": {
          "base_uri": "https://localhost:8080/",
          "height": 58
        },
        "id": "sPe88bbREvGy",
        "outputId": "09674fb9-c429-4d5b-d77c-7f91f81a4ea8"
      },
      "execution_count": null,
      "outputs": [
        {
          "output_type": "execute_result",
          "data": {
            "text/plain": [
              "Eq(Derivative(y(x), x), (x**2*y(x) + x**2)/sqrt(x**3 + 1))"
            ],
            "text/latex": "$\\displaystyle \\frac{d}{d x} y{\\left(x \\right)} = \\frac{x^{2} y{\\left(x \\right)} + x^{2}}{\\sqrt{x^{3} + 1}}$"
          },
          "metadata": {},
          "execution_count": 20
        }
      ]
    },
    {
      "cell_type": "markdown",
      "source": [
        "**Paso 4.** Para resolver la ecuación diferencial se utiliza la función:\n",
        "\n",
        "```\n",
        "dsolve(ecuacion_diferencial,variable_dependiente)\n",
        "```\n",
        "\n"
      ],
      "metadata": {
        "id": "u1kLCaWHFU9q"
      }
    },
    {
      "cell_type": "code",
      "source": [
        "dsolve(edo,y(x))"
      ],
      "metadata": {
        "colab": {
          "base_uri": "https://localhost:8080/",
          "height": 46
        },
        "id": "svpgG46sFzBQ",
        "outputId": "382f7a35-60ee-4768-90de-7e350c257ef7"
      },
      "execution_count": null,
      "outputs": [
        {
          "output_type": "execute_result",
          "data": {
            "text/plain": [
              "Eq(y(x), C1*exp(2*sqrt(x**3 + 1)/3) - 1)"
            ],
            "text/latex": "$\\displaystyle y{\\left(x \\right)} = C_{1} e^{\\frac{2 \\sqrt{x^{3} + 1}}{3}} - 1$"
          },
          "metadata": {},
          "execution_count": 19
        }
      ]
    },
    {
      "cell_type": "markdown",
      "source": [
        "Esta última expresión es la solución general de la ecuación diferencial.\n",
        "\n",
        "**Ejercicio 2.** Resolver la siguiente ecuación diferencial.\n",
        "\n",
        "$$\\dfrac{dy}{dx}=-\\dfrac{e^{2x-y}}{e^{y-2x}}$$\n",
        "\n",
        "**Solución**\n",
        "\n",
        "**Paso 1.** Escribir la ecuación en la forma $\\dfrac{dy}{dx}=f(x,y)$\n",
        "\n",
        "En este caso no hace falta, ya que la ecuación está escrita en la forma deseada.\n",
        "\n",
        "**Paso 2.** Definir la variables de la ecuación diferencial."
      ],
      "metadata": {
        "id": "ixSY6TYNJdss"
      }
    },
    {
      "cell_type": "code",
      "source": [
        "y = Function(\"y\")\n",
        "x = symbols(\"x\")"
      ],
      "metadata": {
        "id": "AG1LSoBeJbbU"
      },
      "execution_count": null,
      "outputs": []
    },
    {
      "cell_type": "markdown",
      "source": [
        "**Paso 3.** Escribimos la ecuación diferencial."
      ],
      "metadata": {
        "id": "k-cASPtxRoli"
      }
    },
    {
      "cell_type": "code",
      "source": [
        "edo2 = Eq( diff(y(x),x),-(exp(2*x-y(x))/exp(y(x)-2*x)) )\n",
        "edo2"
      ],
      "metadata": {
        "id": "NOGyfWj9Rt6o",
        "outputId": "7cf98734-1c07-4967-deb3-963549e6b687",
        "colab": {
          "base_uri": "https://localhost:8080/",
          "height": 52
        }
      },
      "execution_count": null,
      "outputs": [
        {
          "output_type": "execute_result",
          "data": {
            "text/plain": [
              "Eq(Derivative(y(x), x), -exp(4*x - 2*y(x)))"
            ],
            "text/latex": "$\\displaystyle \\frac{d}{d x} y{\\left(x \\right)} = - e^{4 x - 2 y{\\left(x \\right)}}$"
          },
          "metadata": {},
          "execution_count": 42
        }
      ]
    },
    {
      "cell_type": "markdown",
      "source": [
        "**Paso 4.** Escribimos la solución de la ecuación diferencial."
      ],
      "metadata": {
        "id": "D0SgFbXv3Mg9"
      }
    },
    {
      "cell_type": "code",
      "source": [
        "dsolve(edo2,y(x))"
      ],
      "metadata": {
        "id": "S5aZX7Cl3cNu",
        "outputId": "53d35c76-abc4-422e-cf4c-21ee30ee6081",
        "colab": {
          "base_uri": "https://localhost:8080/"
        }
      },
      "execution_count": null,
      "outputs": [
        {
          "output_type": "execute_result",
          "data": {
            "text/plain": [
              "[Eq(y(x), log(-sqrt(C1 - 2*exp(4*x))) - log(2)),\n",
              " Eq(y(x), log(C1 - 2*exp(4*x))/2 - log(2))]"
            ]
          },
          "metadata": {},
          "execution_count": 43
        }
      ]
    },
    {
      "cell_type": "markdown",
      "source": [
        "En este caso, nos imprime una lista con dos soluciones y para acceder a la primera solución se utilizan los corchetes y se escribe el índice que en este caso será cero para la primera solución."
      ],
      "metadata": {
        "id": "uIDEa7Kdj4ql"
      }
    },
    {
      "cell_type": "code",
      "source": [
        "dsolve(edo2,y(x))[0]"
      ],
      "metadata": {
        "id": "pUOy_qoukd5E",
        "outputId": "15835906-56c1-40c6-8715-2c0817987142",
        "colab": {
          "base_uri": "https://localhost:8080/",
          "height": 47
        }
      },
      "execution_count": null,
      "outputs": [
        {
          "output_type": "execute_result",
          "data": {
            "text/plain": [
              "Eq(y(x), log(-sqrt(C1 - 2*exp(4*x))) - log(2))"
            ],
            "text/latex": "$\\displaystyle y{\\left(x \\right)} = \\log{\\left(- \\sqrt{C_{1} - 2 e^{4 x}} \\right)} - \\log{\\left(2 \\right)}$"
          },
          "metadata": {},
          "execution_count": 44
        }
      ]
    },
    {
      "cell_type": "markdown",
      "source": [
        "**Ejercicio 3.** Resolver la siguiente ecuación diferencial.\n",
        "\n",
        "$$e^y\\Big(\\dfrac{dy}{dx}+1\\Big)=1$$\n",
        "\n",
        "**Solución**\n",
        "\n",
        "\n",
        "**Paso 1.** Escribir la ecuación en la forma $\\dfrac{dy}{dx}=f(x,y)$\n",
        "\n",
        "$$\\dfrac{dy}{dx}+1=\\dfrac{1}{e^y}$$\n",
        "$$\\dfrac{dy}{dx}=\\dfrac{1}{e^y}-1$$\n",
        "$$\\dfrac{dy}{dx}=\\dfrac{1}{e^y}-\\dfrac{e^y}{e^y}$$\n",
        "$$\\dfrac{dy}{dx}=\\dfrac{1-e^y}{e^y}$$\n",
        "\n",
        "**Paso 2.** Definir las variables de la ecuación diferencial."
      ],
      "metadata": {
        "id": "TBUhSPSC6aAq"
      }
    },
    {
      "cell_type": "code",
      "source": [
        "y = Function(\"y\")\n",
        "x = symbols(\"x\")"
      ],
      "metadata": {
        "id": "SAvDxYnO7-Vx"
      },
      "execution_count": null,
      "outputs": []
    },
    {
      "cell_type": "markdown",
      "source": [
        "**Paso 3.** Escribimos la ecuación diferencial."
      ],
      "metadata": {
        "id": "1VAvoUhf8Ynt"
      }
    },
    {
      "cell_type": "code",
      "source": [
        "edo3 = Eq( diff(y(x),x),(1-exp(y(x)))/(exp(y(x))) )\n",
        "edo3"
      ],
      "metadata": {
        "id": "lEdxlKtM8aHG",
        "outputId": "8c13c78c-e4f0-4479-a2e8-112dbdfc89b6",
        "colab": {
          "base_uri": "https://localhost:8080/",
          "height": 52
        }
      },
      "execution_count": null,
      "outputs": [
        {
          "output_type": "execute_result",
          "data": {
            "text/plain": [
              "Eq(Derivative(y(x), x), (1 - exp(y(x)))*exp(-y(x)))"
            ],
            "text/latex": "$\\displaystyle \\frac{d}{d x} y{\\left(x \\right)} = \\left(1 - e^{y{\\left(x \\right)}}\\right) e^{- y{\\left(x \\right)}}$"
          },
          "metadata": {},
          "execution_count": 12
        }
      ]
    },
    {
      "cell_type": "markdown",
      "source": [
        "**Paso 4.** Escribimos la solución de la ecuación diferencial."
      ],
      "metadata": {
        "id": "oWdgWhzs88sr"
      }
    },
    {
      "cell_type": "code",
      "source": [
        "dsolve(edo3,y(x))"
      ],
      "metadata": {
        "id": "Q4WC9gS88-PR",
        "outputId": "55f9491c-3c0d-4a14-f83b-3ea6f0ab94f0",
        "colab": {
          "base_uri": "https://localhost:8080/",
          "height": 38
        }
      },
      "execution_count": null,
      "outputs": [
        {
          "output_type": "execute_result",
          "data": {
            "text/plain": [
              "Eq(y(x), log(C1*exp(-x) + 1))"
            ],
            "text/latex": "$\\displaystyle y{\\left(x \\right)} = \\log{\\left(C_{1} e^{- x} + 1 \\right)}$"
          },
          "metadata": {},
          "execution_count": 13
        }
      ]
    },
    {
      "cell_type": "markdown",
      "source": [
        "Hasta ahora solo se han obtenido las soluciones generales de las ecuaciones diferenciales, pero las soluciones generales son una familia de soluciones de la ecuación diferencial con parámetro $C_1$ y para determinar el valor de $C_1$ se evalúa una condición inicial.\n",
        "\n",
        "Para agregar las condiciones iniciales haciendo uso de la librería Sympy se utiliza un pequeño diccionario y que en este caso llamaremos ```ci``` (condición inicial).\n",
        "```\n",
        "ci = {y(a):b} # ci : condicion inicial\n",
        "```\n",
        "Y a su vez, para agregar esta condición inicial en la solución de la ecuación diferencial, se va a aguardar el diccionario en la variable ```ics ```.\n",
        "```\n",
        "dsolve(ecuacion_diferencial , variable_dependiente , ics = ci)\n",
        "```\n",
        "\n",
        "**Ejercicio 1**\n",
        "\n",
        "Resuelva la ecuación diferencial sujeta a la condición inicial.\n",
        "\n",
        "$$y-x\\dfrac{dy}{dx}=3(1+x^2y) \\hspace{1cm}y(1)=2$$\n",
        "\n",
        "**Solución**\n",
        "\n",
        "**Paso 1.**\n",
        "Escribimos la ecuación en la forma $\\dfrac{dy}{dx}=f(x,y)$  definimos las variables y escribimos la ecuación diferencial.\n",
        "\n",
        "$$\\dfrac{dy}{dx}=\\dfrac{3(1+x^2y)-y}{-x}$$\n",
        "\n",
        "\n",
        "\n",
        "\n"
      ],
      "metadata": {
        "id": "gD2dklQBKQrL"
      }
    },
    {
      "cell_type": "code",
      "source": [
        "y = Function(\"y\")\n",
        "x = symbols(\"x\")\n",
        "\n",
        "Edo4 = Eq(diff(y(x),x),(3*(1+x**2*y(x))-y(x))/(-x))\n",
        "Edo4"
      ],
      "metadata": {
        "id": "Bn28lhzNQbZO",
        "outputId": "a5587ec8-d027-4fb7-8040-868563089ffb",
        "colab": {
          "base_uri": "https://localhost:8080/",
          "height": 54
        }
      },
      "execution_count": null,
      "outputs": [
        {
          "output_type": "execute_result",
          "data": {
            "text/plain": [
              "Eq(Derivative(y(x), x), -(3*x**2*y(x) - y(x) + 3)/x)"
            ],
            "text/latex": "$\\displaystyle \\frac{d}{d x} y{\\left(x \\right)} = - \\frac{3 x^{2} y{\\left(x \\right)} - y{\\left(x \\right)} + 3}{x}$"
          },
          "metadata": {},
          "execution_count": 15
        }
      ]
    },
    {
      "cell_type": "markdown",
      "source": [
        "**Paso 2.** Definimos el diccionario con la condición inicial."
      ],
      "metadata": {
        "id": "AD94xdo_SuTy"
      }
    },
    {
      "cell_type": "code",
      "source": [
        "ci = {y(1):2}"
      ],
      "metadata": {
        "id": "3Ijr49gATAGX"
      },
      "execution_count": null,
      "outputs": []
    },
    {
      "cell_type": "markdown",
      "source": [
        "**Paso 3.** Escribimos la solución de la ecuación diferencial con las condiciones iniciales."
      ],
      "metadata": {
        "id": "C2h_RVQxTNNC"
      }
    },
    {
      "cell_type": "code",
      "source": [
        "dsolve(Edo4,y(x),ics=ci)"
      ],
      "metadata": {
        "id": "hv8AON3STb2W",
        "outputId": "97933184-dc4a-47f2-a1c1-0ab38cce1f1b",
        "colab": {
          "base_uri": "https://localhost:8080/",
          "height": 80
        }
      },
      "execution_count": null,
      "outputs": [
        {
          "output_type": "execute_result",
          "data": {
            "text/plain": [
              "Eq(y(x), -3*sqrt(6)*sqrt(pi)*x*exp(-3*x**2/2)*erfi(sqrt(6)*x/2)/2 + x*(-exp(3/2) + 3*sqrt(6)*sqrt(pi)*erfi(sqrt(6)/2)/2)*exp(-3*x**2/2) + 3)"
            ],
            "text/latex": "$\\displaystyle y{\\left(x \\right)} = - \\frac{3 \\sqrt{6} \\sqrt{\\pi} x e^{- \\frac{3 x^{2}}{2}} \\operatorname{erfi}{\\left(\\frac{\\sqrt{6} x}{2} \\right)}}{2} + x \\left(- e^{\\frac{3}{2}} + \\frac{3 \\sqrt{6} \\sqrt{\\pi} \\operatorname{erfi}{\\left(\\frac{\\sqrt{6}}{2} \\right)}}{2}\\right) e^{- \\frac{3 x^{2}}{2}} + 3$"
          },
          "metadata": {},
          "execution_count": 24
        }
      ]
    },
    {
      "cell_type": "markdown",
      "source": [
        "**Ejercicio 2**\n",
        "\n",
        "Resuelva la ecuación diferencial sujeta a la condición inicial.\n",
        "\n",
        "$$e^{-y}(1+\\dfrac{dy}{dx})=1 \\hspace{1cm}y(0)=1$$\n",
        "\n",
        "**Solución**\n",
        "\n",
        "**Paso 1.**\n",
        "Escribimos la ecuación en la forma $\\dfrac{dy}{dx}=f(x,y)$  definimos las variables y escribimos la ecuación diferencial.\n",
        "\n",
        "$$\\dfrac{dy}{dx}=e^y-1$$"
      ],
      "metadata": {
        "id": "95jttzt7W_nU"
      }
    },
    {
      "cell_type": "code",
      "source": [
        "y = Function(\"y\")\n",
        "x = symbols(\"x\")\n",
        "\n",
        "Edo5 = Eq(diff(y(x),x),exp(y(x))-1)\n",
        "Edo5"
      ],
      "metadata": {
        "id": "ieUsLe7ld4V9",
        "outputId": "eb7944c5-423f-49fb-d56c-de6bf069c1d3",
        "colab": {
          "base_uri": "https://localhost:8080/",
          "height": 52
        }
      },
      "execution_count": null,
      "outputs": [
        {
          "output_type": "execute_result",
          "data": {
            "text/plain": [
              "Eq(Derivative(y(x), x), exp(y(x)) - 1)"
            ],
            "text/latex": "$\\displaystyle \\frac{d}{d x} y{\\left(x \\right)} = e^{y{\\left(x \\right)}} - 1$"
          },
          "metadata": {},
          "execution_count": 26
        }
      ]
    },
    {
      "cell_type": "markdown",
      "source": [
        "**Paso 2.** Definimos el diccionario con la condición inicial."
      ],
      "metadata": {
        "id": "WYlwNnhbenAR"
      }
    },
    {
      "cell_type": "code",
      "source": [
        "ci2 = {y(0):1}"
      ],
      "metadata": {
        "id": "irqvTaOIepUu"
      },
      "execution_count": null,
      "outputs": []
    },
    {
      "cell_type": "markdown",
      "source": [
        "**Paso 3.** Escribimos la solución de la ecuación diferencial con las condiciones iniciales."
      ],
      "metadata": {
        "id": "Wbgu-7Zmez4J"
      }
    },
    {
      "cell_type": "code",
      "source": [
        "dsolve(Edo5,y(x),ics=ci2)"
      ],
      "metadata": {
        "id": "Z63EfjvCe08x",
        "outputId": "362dd30b-dc66-4b51-a10a-b0bfb9df695e",
        "colab": {
          "base_uri": "https://localhost:8080/",
          "height": 47
        }
      },
      "execution_count": null,
      "outputs": [
        {
          "output_type": "execute_result",
          "data": {
            "text/plain": [
              "Eq(x + y(x) - log(exp(y(x)) - 1), 1 - log(-1 + E))"
            ],
            "text/latex": "$\\displaystyle x + y{\\left(x \\right)} - \\log{\\left(e^{y{\\left(x \\right)}} - 1 \\right)} = 1 - \\log{\\left(-1 + e \\right)}$"
          },
          "metadata": {},
          "execution_count": 38
        }
      ]
    },
    {
      "cell_type": "markdown",
      "source": [
        "Ya sabiendo la solución general y la solución particular, podemos graficar las soluciones.\n",
        "\n",
        "**Ejercicio 1.**\n",
        "\n",
        "Resuelva la ecuación diferencial sujeta a la condición inicial.\n",
        "\n",
        "$$\\dfrac{dy}{dx}=\\dfrac{x^2}{y(1+x^3)} \\hspace{1cm}y(0)=2$$\n",
        "\n",
        "**Solución**\n",
        "\n",
        "**Paso 1.**\n",
        "\n",
        "Se definen las variables de la ecuación diferencial y en esta ocasión no se va a definir una variable que guarde el diccionario de la condición inicial, ni se va a definir una variable para que guarde la ecuación diferencial, sino que se va a definir dentro de la función ```Eq()```."
      ],
      "metadata": {
        "id": "nQJMcK8Pg6J1"
      }
    },
    {
      "cell_type": "code",
      "source": [
        "y = Function(\"y\")\n",
        "x = symbols(\"x\")\n",
        "\n",
        "sol = dsolve( Eq(diff(y(x),x),x**2/(y(x)*(1+x**3))) , y(x) , ics={y(0):2} )\n",
        "sol"
      ],
      "metadata": {
        "id": "hqoA-W8DjJ58",
        "outputId": "3f657916-2bdd-418c-d6ea-71b29c447ea9",
        "colab": {
          "base_uri": "https://localhost:8080/",
          "height": 56
        }
      },
      "execution_count": 3,
      "outputs": [
        {
          "output_type": "execute_result",
          "data": {
            "text/plain": [
              "Eq(y(x), sqrt(6*log(x**3 + 1) + 36)/3)"
            ],
            "text/latex": "$\\displaystyle y{\\left(x \\right)} = \\frac{\\sqrt{6 \\log{\\left(x^{3} + 1 \\right)} + 36}}{3}$"
          },
          "metadata": {},
          "execution_count": 3
        }
      ]
    },
    {
      "cell_type": "markdown",
      "source": [
        "**Paso 2.** Importamos las librerías para realizar gráficos."
      ],
      "metadata": {
        "id": "Tus9qaZ1pklR"
      }
    },
    {
      "cell_type": "code",
      "source": [
        "import matplotlib.pyplot as plt\n",
        "import numpy as np\n",
        "\n",
        "f = lambdify(x,sol.rhs,\"numpy\")\n",
        "\n",
        "x1 = np.arange(0,10,0.01)\n",
        "y1 = f(x1)\n",
        "\n",
        "plt.plot(x1,y1,label=\"$y(x)=\\dfrac{1}{3}\\sqrt{6ln(x^3+1)+36}$\")\n",
        "\n",
        "plt.xlabel(\"$x$\")\n",
        "plt.ylabel(\"$f(x)$\")\n",
        "plt.grid()\n",
        "plt.title(\"Gráfico de la solución de la ecuación diferencial\")\n",
        "#plt.axis(\"equal\")\n",
        "plt.legend(loc=\"upper right\")\n",
        "plt.show()"
      ],
      "metadata": {
        "id": "0H1fvLU3p4p_",
        "outputId": "f42eacad-d60f-440e-b1f9-8dfc29064a3c",
        "colab": {
          "base_uri": "https://localhost:8080/",
          "height": 472
        }
      },
      "execution_count": 18,
      "outputs": [
        {
          "output_type": "display_data",
          "data": {
            "text/plain": [
              "<Figure size 640x480 with 1 Axes>"
            ],
            "image/png": "[encoded data removed]"
          },
          "metadata": {}
        }
      ]
    }
  ]
}