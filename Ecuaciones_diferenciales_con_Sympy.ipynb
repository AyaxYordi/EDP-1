{
  "nbformat": 4,
  "nbformat_minor": 0,
  "metadata": {
    "colab": {
      "provenance": [],
      "authorship_tag": "ABX9TyMCVNwDzgj4zG5M3tJB136z"
    },
    "kernelspec": {
      "name": "python3",
      "display_name": "Python 3"
    },
    "language_info": {
      "name": "python"
    }
  },
  "cells": [
    {
      "cell_type": "markdown",
      "source": [
        "# Ecuaciones diferenciales con la libreria Sympy\n",
        "\n",
        "Aquí se da un breve repaso de cómo resolver ecuaciones diferenciales haciendo uso de la librería Sympy de Python y se resolverán los siguientes tipos de ecuaciones diferenciales.\n",
        "\n",
        "\n",
        "\n",
        "*   Ecuaciones diferenciales ordinarias de variable separable\n",
        "*   Ecuaciones diferenciales ordinarias Homogeneas\n",
        "*   Ecuaciones diferenciales ordinarias de Bernoulli\n",
        "\n",
        "# Ecuaciones diferenciales ordinarias de variable separable\n",
        "\n",
        "Si de la ecuacion diferencial ordinaria de primer orden y primer grado que es:\n",
        "\n",
        "$$\\dfrac{dy}{dx}=f(x,y)$$\n",
        "\n",
        "Se puede expresar de la siguiente manera:\n",
        "\n",
        "$$M(x)dx+N(y)dy=0$$\n",
        "\n",
        "Entonces a la ecuación se le denomina ecuación diferencial ordinaria de variable separable y la solución general se obtiene por integración directa, es decir:\n",
        "\n",
        "$$\\int M(x)dx+\\int N(y)dy=c$$\n",
        "\n",
        "**Ejercicio 1:** Resolver la siguiente ecuación diferencial.\n",
        "\n",
        "$$-(x^2y+x^2)dx+\\sqrt{1+x^3}dy=0$$\n",
        "\n",
        "**Solución:**\n",
        "\n",
        "**Paso 1.** Reescribiremos la ecuación diferencial de la forma $\\dfrac{dy}{dx}=f(x,y)$ o sea:\n",
        "\n",
        "$$\\dfrac{dy}{dx}=\\dfrac{x^2y+x^2}{\\sqrt{1+x^3}}$$\n",
        "\n",
        "**Paso 2.** Definimos las variables de la ecuación diferencial."
      ],
      "metadata": {
        "id": "cX6rmQTXX2KW"
      }
    },
    {
      "cell_type": "code",
      "execution_count": 1,
      "metadata": {
        "id": "FnWrOOGTXwmD"
      },
      "outputs": [],
      "source": [
        "from sympy import *\n",
        "\n",
        "y = Function(\"y\")\n",
        "x = symbols(\"x\")"
      ]
    },
    {
      "cell_type": "markdown",
      "source": [
        "**Paso 3.** Escribimos la ecuación diferencial.\n",
        "\n",
        "Para escribir la ecuación diferencial se utiliza la función Eq.\n",
        "\n",
        "```\n",
        "Eq(miembro_izquierdo_de_la_igualdad , miembro_derecho_de_la_igualdad)\n",
        "```\n",
        "\n"
      ],
      "metadata": {
        "id": "SVYrytHcEZT2"
      }
    },
    {
      "cell_type": "code",
      "source": [
        "edo = Eq(diff(y(x),x),(y(x)*x**2+x**2)/sqrt(1+x**3))\n",
        "edo"
      ],
      "metadata": {
        "colab": {
          "base_uri": "https://localhost:8080/",
          "height": 58
        },
        "id": "sPe88bbREvGy",
        "outputId": "09674fb9-c429-4d5b-d77c-7f91f81a4ea8"
      },
      "execution_count": null,
      "outputs": [
        {
          "output_type": "execute_result",
          "data": {
            "text/plain": [
              "Eq(Derivative(y(x), x), (x**2*y(x) + x**2)/sqrt(x**3 + 1))"
            ],
            "text/latex": "$\\displaystyle \\frac{d}{d x} y{\\left(x \\right)} = \\frac{x^{2} y{\\left(x \\right)} + x^{2}}{\\sqrt{x^{3} + 1}}$"
          },
          "metadata": {},
          "execution_count": 20
        }
      ]
    },
    {
      "cell_type": "markdown",
      "source": [
        "**Paso 4.** Para resolver la ecuación diferencial se utiliza la función:\n",
        "\n",
        "```\n",
        "dsolve(ecuacion_diferencial,variable_dependiente)\n",
        "```\n",
        "\n"
      ],
      "metadata": {
        "id": "u1kLCaWHFU9q"
      }
    },
    {
      "cell_type": "code",
      "source": [
        "dsolve(edo,y(x))"
      ],
      "metadata": {
        "colab": {
          "base_uri": "https://localhost:8080/",
          "height": 46
        },
        "id": "svpgG46sFzBQ",
        "outputId": "382f7a35-60ee-4768-90de-7e350c257ef7"
      },
      "execution_count": null,
      "outputs": [
        {
          "output_type": "execute_result",
          "data": {
            "text/plain": [
              "Eq(y(x), C1*exp(2*sqrt(x**3 + 1)/3) - 1)"
            ],
            "text/latex": "$\\displaystyle y{\\left(x \\right)} = C_{1} e^{\\frac{2 \\sqrt{x^{3} + 1}}{3}} - 1$"
          },
          "metadata": {},
          "execution_count": 19
        }
      ]
    },
    {
      "cell_type": "markdown",
      "source": [
        "Esta última expresión es la solución general de la ecuación diferencial.\n",
        "\n",
        "**Ejercicio 2.** Resolver la siguiente ecuación diferencial.\n",
        "\n",
        "$$\\dfrac{dy}{dx}=-\\dfrac{e^{2x-y}}{e^{y-2x}}$$\n",
        "\n",
        "**Solución**\n",
        "\n",
        "**Paso 1.** Escribir la ecuación en la forma $\\dfrac{dy}{dx}=f(x,y)$\n",
        "\n",
        "En este caso no hace falta, ya que la ecuación está escrita en la forma deseada.\n",
        "\n",
        "**Paso 2.** Definir la variables de la ecuación diferencial."
      ],
      "metadata": {
        "id": "ixSY6TYNJdss"
      }
    },
    {
      "cell_type": "code",
      "source": [
        "y = Function(\"y\")\n",
        "x = symbols(\"x\")"
      ],
      "metadata": {
        "id": "AG1LSoBeJbbU"
      },
      "execution_count": null,
      "outputs": []
    },
    {
      "cell_type": "markdown",
      "source": [
        "**Paso 3.** Escribimos la ecuación diferencial."
      ],
      "metadata": {
        "id": "k-cASPtxRoli"
      }
    },
    {
      "cell_type": "code",
      "source": [
        "edo2 = Eq( diff(y(x),x),-(exp(2*x-y(x))/exp(y(x)-2*x)) )\n",
        "edo2"
      ],
      "metadata": {
        "id": "NOGyfWj9Rt6o",
        "outputId": "71a718f6-14d9-4a50-c56e-ce2a572c2e31",
        "colab": {
          "base_uri": "https://localhost:8080/",
          "height": 52
        }
      },
      "execution_count": null,
      "outputs": [
        {
          "output_type": "execute_result",
          "data": {
            "text/plain": [
              "Eq(Derivative(y(x), x), -exp(4*x - 2*y(x)))"
            ],
            "text/latex": "$\\displaystyle \\frac{d}{d x} y{\\left(x \\right)} = - e^{4 x - 2 y{\\left(x \\right)}}$"
          },
          "metadata": {},
          "execution_count": 5
        }
      ]
    },
    {
      "cell_type": "markdown",
      "source": [
        "**Paso 4.** Escribimos la solución de la ecuación diferencial."
      ],
      "metadata": {
        "id": "D0SgFbXv3Mg9"
      }
    },
    {
      "cell_type": "code",
      "source": [
        "dsolve(edo2,y(x))[1]"
      ],
      "metadata": {
        "id": "S5aZX7Cl3cNu",
        "outputId": "b50b8e97-2be0-4466-a40e-76174dff6598",
        "colab": {
          "base_uri": "https://localhost:8080/",
          "height": 56
        }
      },
      "execution_count": null,
      "outputs": [
        {
          "output_type": "execute_result",
          "data": {
            "text/plain": [
              "Eq(y(x), log(C1 - 2*exp(4*x))/2 - log(2))"
            ],
            "text/latex": "$\\displaystyle y{\\left(x \\right)} = \\frac{\\log{\\left(C_{1} - 2 e^{4 x} \\right)}}{2} - \\log{\\left(2 \\right)}$"
          },
          "metadata": {},
          "execution_count": 7
        }
      ]
    },
    {
      "cell_type": "markdown",
      "source": [
        "**Ejercicio 3.** Resolver la siguiente ecuación diferencial.\n",
        "\n",
        "$$e^y\\Big(\\dfrac{dy}{dx}+1\\Big)=1$$\n",
        "\n",
        "**Solución**\n",
        "\n",
        "\n",
        "**Paso 1.** Escribir la ecuación en la forma $\\dfrac{dy}{dx}=f(x,y)$\n",
        "\n",
        "$$\\dfrac{dy}{dx}+1=\\dfrac{1}{e^y}$$\n",
        "$$\\dfrac{dy}{dx}=\\dfrac{1}{e^y}-1$$\n",
        "$$\\dfrac{dy}{dx}=\\dfrac{1}{e^y}-\\dfrac{e^y}{e^y}$$\n",
        "$$\\dfrac{dy}{dx}=\\dfrac{1-e^y}{e^y}$$\n",
        "\n",
        "**Paso 2.** Definir las variables de la ecuación diferencial."
      ],
      "metadata": {
        "id": "TBUhSPSC6aAq"
      }
    },
    {
      "cell_type": "code",
      "source": [
        "y = Function(\"y\")\n",
        "x = symbols(\"x\")"
      ],
      "metadata": {
        "id": "SAvDxYnO7-Vx"
      },
      "execution_count": 4,
      "outputs": []
    },
    {
      "cell_type": "markdown",
      "source": [
        "**Paso 3.** Escribimos la ecuación diferencial."
      ],
      "metadata": {
        "id": "1VAvoUhf8Ynt"
      }
    },
    {
      "cell_type": "code",
      "source": [
        "edo3 = Eq( diff(y(x),x),(1-exp(y(x)))/(exp(y(x))) )\n",
        "edo3"
      ],
      "metadata": {
        "id": "lEdxlKtM8aHG",
        "outputId": "8c13c78c-e4f0-4479-a2e8-112dbdfc89b6",
        "colab": {
          "base_uri": "https://localhost:8080/",
          "height": 52
        }
      },
      "execution_count": 12,
      "outputs": [
        {
          "output_type": "execute_result",
          "data": {
            "text/plain": [
              "Eq(Derivative(y(x), x), (1 - exp(y(x)))*exp(-y(x)))"
            ],
            "text/latex": "$\\displaystyle \\frac{d}{d x} y{\\left(x \\right)} = \\left(1 - e^{y{\\left(x \\right)}}\\right) e^{- y{\\left(x \\right)}}$"
          },
          "metadata": {},
          "execution_count": 12
        }
      ]
    },
    {
      "cell_type": "markdown",
      "source": [
        "**Paso 4.** Escribimos la solución de la ecuación diferencial."
      ],
      "metadata": {
        "id": "oWdgWhzs88sr"
      }
    },
    {
      "cell_type": "code",
      "source": [
        "dsolve(edo3,y(x))"
      ],
      "metadata": {
        "id": "Q4WC9gS88-PR",
        "outputId": "55f9491c-3c0d-4a14-f83b-3ea6f0ab94f0",
        "colab": {
          "base_uri": "https://localhost:8080/",
          "height": 38
        }
      },
      "execution_count": 13,
      "outputs": [
        {
          "output_type": "execute_result",
          "data": {
            "text/plain": [
              "Eq(y(x), log(C1*exp(-x) + 1))"
            ],
            "text/latex": "$\\displaystyle y{\\left(x \\right)} = \\log{\\left(C_{1} e^{- x} + 1 \\right)}$"
          },
          "metadata": {},
          "execution_count": 13
        }
      ]
    },
    {
      "cell_type": "markdown",
      "source": [
        "Hasta ahora solo se han obtenido las soluciones generales de las ecuaciones diferenciales, pero las soluciones generales son una familia de soluciones de la ecuación diferencial con parámetro $C_1$ y para determinar el valor de $C_1$ se evalúa una condición inicial.\n",
        "\n",
        "Para agregar las condiciones iniciales haciendo uso de la librería Sympy se utiliza un pequeño diccionario y que en este caso llamaremos ```ci``` (condición inicial).\n",
        "```\n",
        "ci = {y(a):b} # ci : condicion inicial\n",
        "```\n",
        "Y a su vez, para agregar esta condición inicial en la solución de la ecuación diferencial, se va a aguardar el diccionario en la variable ```ics ```.\n",
        "```\n",
        "dsolve(ecuacion_diferencial , variable_dependiente , ics = ci)\n",
        "```\n",
        "\n",
        "**Ejercicio 1**\n",
        "\n",
        "Resuelva la ecuación diferencial sujeta a la condición inicial.\n",
        "\n",
        "$$y-x\\dfrac{dy}{dx}=3(1+x^2y) \\hspace{1cm}y(0)=2$$\n",
        "\n",
        "**Solución**\n",
        "\n",
        "Escribimos la ecuación en la forma $\\dfrac{dy}{dx}=f(x,y)$  definimos las variables y escribimos la ecuación diferencial.\n",
        "\n",
        "$$\\dfrac{dy}{dx}=\\dfrac{3(1+x^2y)-y}{-x}$$\n",
        "\n",
        "\n",
        "\n",
        "\n"
      ],
      "metadata": {
        "id": "gD2dklQBKQrL"
      }
    },
    {
      "cell_type": "code",
      "source": [
        "y = Function(\"y\")\n",
        "x = symbols(\"x\")\n",
        "\n",
        "Edo4 = Eq(diff(y(x),x))"
      ],
      "metadata": {
        "id": "Bn28lhzNQbZO"
      },
      "execution_count": null,
      "outputs": []
    }
  ]
}