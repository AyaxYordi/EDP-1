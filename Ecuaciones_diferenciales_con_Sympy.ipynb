{
  "nbformat": 4,
  "nbformat_minor": 0,
  "metadata": {
    "colab": {
      "provenance": [],
      "authorship_tag": "ABX9TyOEGbMupHrXbSDWZ4hdXNvK"
    },
    "kernelspec": {
      "name": "python3",
      "display_name": "Python 3"
    },
    "language_info": {
      "name": "python"
    }
  },
  "cells": [
    {
      "cell_type": "markdown",
      "source": [
        "# Ecuaciones diferenciales con la libreria Sympy\n",
        "\n",
        "Aquí se da un breve repaso de cómo resolver ecuaciones diferenciales haciendo uso de la librería Sympy de Python y se resolverán los siguientes tipos de ecuaciones diferenciales.\n",
        "\n",
        "\n",
        "\n",
        "*   Ecuaciones diferenciales ordinarias de variable separable\n",
        "*   Ecuaciones diferenciales ordinarias Homogeneas\n",
        "*   Ecuaciones diferenciales ordinarias de Bernoulli\n",
        "\n",
        "# Ecuaciones diferenciales ordinarias de variable separable\n",
        "\n",
        "Si de la ecuacion diferencial ordinaria de primer orden y primer grado que es:\n",
        "\n",
        "$$\\dfrac{dy}{dx}=f(x,y)$$\n",
        "\n",
        "Se puede expresar de la siguiente manera:\n",
        "\n",
        "$$M(x)dx+N(y)dy=0$$\n",
        "\n",
        "Entonces a la ecuación se le denomina ecuación diferencial ordinaria de variable separable y la solución general se obtiene por integración directa, es decir:\n",
        "\n",
        "$$\\int M(x)dx+\\int N(y)dy=c$$\n",
        "\n",
        "**Ejercicio 1:** Resolver la siguiente ecuación diferencial.\n",
        "\n",
        "$$-(x^2y+x^2)dx+\\sqrt{1+x^3}dy=0$$\n",
        "\n",
        "**Solución:**\n",
        "\n",
        "**Paso 1.** Reescribiremos la ecuación diferencial de la forma $\\dfrac{dy}{dx}=f(x,y)$ o sea:\n",
        "\n",
        "$$\\dfrac{dy}{dx}=\\dfrac{x^2y+x^2}{\\sqrt{1+x^3}}$$\n",
        "\n",
        "**Paso 2.** Definimos las variables de la ecuación diferencial."
      ],
      "metadata": {
        "id": "cX6rmQTXX2KW"
      }
    },
    {
      "cell_type": "code",
      "execution_count": 3,
      "metadata": {
        "id": "FnWrOOGTXwmD"
      },
      "outputs": [],
      "source": [
        "from sympy import *\n",
        "\n",
        "y = Function(\"y\")\n",
        "x = symbols(\"x\")"
      ]
    },
    {
      "cell_type": "markdown",
      "source": [
        "**Paso 3.** Escribimos la ecuación diferencial.\n",
        "\n",
        "Para escribir la ecuación diferencial se utiliza la función Eq.\n",
        "\n",
        "```\n",
        "Eq(miembro_izquierdo_de_la_igualdad , miembro_derecho_de_la_igualdad)\n",
        "```\n",
        "\n"
      ],
      "metadata": {
        "id": "SVYrytHcEZT2"
      }
    },
    {
      "cell_type": "code",
      "source": [
        "edo = Eq(diff(y(x),x),(y(x)*x**2+x**2)/sqrt(1+x**3))\n",
        "edo"
      ],
      "metadata": {
        "colab": {
          "base_uri": "https://localhost:8080/",
          "height": 58
        },
        "id": "sPe88bbREvGy",
        "outputId": "09674fb9-c429-4d5b-d77c-7f91f81a4ea8"
      },
      "execution_count": null,
      "outputs": [
        {
          "output_type": "execute_result",
          "data": {
            "text/plain": [
              "Eq(Derivative(y(x), x), (x**2*y(x) + x**2)/sqrt(x**3 + 1))"
            ],
            "text/latex": "$\\displaystyle \\frac{d}{d x} y{\\left(x \\right)} = \\frac{x^{2} y{\\left(x \\right)} + x^{2}}{\\sqrt{x^{3} + 1}}$"
          },
          "metadata": {},
          "execution_count": 20
        }
      ]
    },
    {
      "cell_type": "markdown",
      "source": [
        "**Paso 4.** Para resolver la ecuación diferencial se utiliza la función:\n",
        "\n",
        "```\n",
        "dsolve(ecuacion_diferencial,variable_dependiente)\n",
        "```\n",
        "\n"
      ],
      "metadata": {
        "id": "u1kLCaWHFU9q"
      }
    },
    {
      "cell_type": "code",
      "source": [
        "dsolve(edo,y(x))"
      ],
      "metadata": {
        "colab": {
          "base_uri": "https://localhost:8080/",
          "height": 46
        },
        "id": "svpgG46sFzBQ",
        "outputId": "382f7a35-60ee-4768-90de-7e350c257ef7"
      },
      "execution_count": null,
      "outputs": [
        {
          "output_type": "execute_result",
          "data": {
            "text/plain": [
              "Eq(y(x), C1*exp(2*sqrt(x**3 + 1)/3) - 1)"
            ],
            "text/latex": "$\\displaystyle y{\\left(x \\right)} = C_{1} e^{\\frac{2 \\sqrt{x^{3} + 1}}{3}} - 1$"
          },
          "metadata": {},
          "execution_count": 19
        }
      ]
    },
    {
      "cell_type": "markdown",
      "source": [
        "Esta última expresión es la solución general de la ecuación diferencial.\n",
        "\n",
        "**Ejercicio 2.** Resolver la siguiente ecuación diferencial.\n",
        "\n",
        "$$\\dfrac{dy}{dx}=-\\dfrac{e^{2x-y}}{e^{y-2x}}$$\n",
        "\n",
        "**Solución**\n",
        "\n",
        "**Paso 1.** Escribir la ecuación en la forma $\\dfrac{dy}{dx}=f(x,y)$\n",
        "\n",
        "En este caso no hace falta, ya que la ecuación está escrita en la forma deseada.\n",
        "\n",
        "**Paso 2.** Definir la variables de la ecuación diferencial."
      ],
      "metadata": {
        "id": "ixSY6TYNJdss"
      }
    },
    {
      "cell_type": "code",
      "source": [
        "y = Function(\"y\")\n",
        "x = symbols(\"x\")"
      ],
      "metadata": {
        "id": "AG1LSoBeJbbU"
      },
      "execution_count": 4,
      "outputs": []
    },
    {
      "cell_type": "markdown",
      "source": [
        "**Paso 3.** Escribimos la ecuación diferencial."
      ],
      "metadata": {
        "id": "k-cASPtxRoli"
      }
    },
    {
      "cell_type": "code",
      "source": [
        "edo2 = Eq( diff(y(x),x),-(exp(2*x-y(x))/exp(y(x)-2*x)) )\n",
        "edo2"
      ],
      "metadata": {
        "id": "NOGyfWj9Rt6o",
        "outputId": "71a718f6-14d9-4a50-c56e-ce2a572c2e31",
        "colab": {
          "base_uri": "https://localhost:8080/",
          "height": 52
        }
      },
      "execution_count": 5,
      "outputs": [
        {
          "output_type": "execute_result",
          "data": {
            "text/plain": [
              "Eq(Derivative(y(x), x), -exp(4*x - 2*y(x)))"
            ],
            "text/latex": "$\\displaystyle \\frac{d}{d x} y{\\left(x \\right)} = - e^{4 x - 2 y{\\left(x \\right)}}$"
          },
          "metadata": {},
          "execution_count": 5
        }
      ]
    },
    {
      "cell_type": "markdown",
      "source": [
        "**Paso 4.** Escribimos la solución de la ecuación diferencial."
      ],
      "metadata": {
        "id": "D0SgFbXv3Mg9"
      }
    },
    {
      "cell_type": "code",
      "source": [
        "dsolve(edo2,y(x))[1]"
      ],
      "metadata": {
        "id": "S5aZX7Cl3cNu",
        "outputId": "b50b8e97-2be0-4466-a40e-76174dff6598",
        "colab": {
          "base_uri": "https://localhost:8080/",
          "height": 56
        }
      },
      "execution_count": 7,
      "outputs": [
        {
          "output_type": "execute_result",
          "data": {
            "text/plain": [
              "Eq(y(x), log(C1 - 2*exp(4*x))/2 - log(2))"
            ],
            "text/latex": "$\\displaystyle y{\\left(x \\right)} = \\frac{\\log{\\left(C_{1} - 2 e^{4 x} \\right)}}{2} - \\log{\\left(2 \\right)}$"
          },
          "metadata": {},
          "execution_count": 7
        }
      ]
    }
  ]
}